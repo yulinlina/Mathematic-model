{
 "cells": [
  {
   "cell_type": "code",
   "execution_count": 24,
   "metadata": {},
   "outputs": [
    {
     "name": "stdout",
     "output_type": "stream",
     "text": [
      "---------------------------\n",
      "status: optimal\n",
      "optimal value: 102148.74848660763\n",
      "optimal var: [1929.67034997 1510.54083004]\n",
      "---------------------------\n"
     ]
    }
   ],
   "source": [
    "from cvxpy import *\n",
    "x = Variable(2)\n",
    "constraints = [0<=x[0],x[0]<=5000,0<=x[1],x[1]<=6000]\n",
    "a = [5000,0]\n",
    "b= [0,2000]\n",
    "c = [200,5600]\n",
    "d= [3000,4800]\n",
    "obj =Minimize(3*norm(x-a)+5*norm(x-b)+4*norm(x-c)+12*norm(x-d)+15*x[1])\n",
    "prob= Problem(obj,constraints=constraints)\n",
    "prob.solve()\n",
    "print(\"---------------------------\")\n",
    "print(\"status:\",prob.status)\n",
    "print(\"optimal value:\",prob.value)\n",
    "print(\"optimal var:\",x.value)\n",
    "print(\"---------------------------\")"
   ]
  }
 ],
 "metadata": {
  "interpreter": {
   "hash": "a8f61be024eba58adef938c9aa1e29e02cb3dece83a5348b1a2dafd16a070453"
  },
  "kernelspec": {
   "display_name": "Python 3.8.8 ('base')",
   "language": "python",
   "name": "python3"
  },
  "language_info": {
   "codemirror_mode": {
    "name": "ipython",
    "version": 3
   },
   "file_extension": ".py",
   "mimetype": "text/x-python",
   "name": "python",
   "nbconvert_exporter": "python",
   "pygments_lexer": "ipython3",
   "version": "3.8.8"
  },
  "orig_nbformat": 4
 },
 "nbformat": 4,
 "nbformat_minor": 2
}
